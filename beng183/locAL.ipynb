{
 "metadata": {
  "name": "",
  "signature": "sha256:d27fc178fbedbd1f370f986b6b5ae77171f18d073313cff4ce3ead9eb99fb53f"
 },
 "nbformat": 3,
 "nbformat_minor": 0,
 "worksheets": [
  {
   "cells": [
    {
     "cell_type": "heading",
     "level": 1,
     "metadata": {},
     "source": [
      "Introduction"
     ]
    },
    {
     "cell_type": "code",
     "collapsed": false,
     "input": [
      "# Goal #1: Align two sequences.     \n",
      "# Goal #2: Use a space-saving alignment (Monday's Lecture).\n",
      "# Goal #3: Use linear gap-penalty. \n",
      "# Goal #4: Implement a command line taking arguments match-score,\n",
      "#           mismatch-score, gapopen, and gapextend. "
     ],
     "language": "python",
     "metadata": {},
     "outputs": [],
     "prompt_number": 1
    },
    {
     "cell_type": "code",
     "collapsed": false,
     "input": [
      "# Inputs\n",
      "# DNA sequence file 1\n",
      "# DNA sequence file 2\n",
      "# match\n",
      "# mismatch\n",
      "# gap-open\n",
      "# gap-extend\n",
      "\n",
      "#Outputs\n",
      "# score of best locAL alignment.\n",
      "# length of the best locAL alignment.\n",
      "# alignment itself."
     ],
     "language": "python",
     "metadata": {},
     "outputs": [],
     "prompt_number": 2
    },
    {
     "cell_type": "code",
     "collapsed": false,
     "input": [
      "# Update\n",
      "# scoring by bases done\n",
      "# scoring df done\n",
      "#"
     ],
     "language": "python",
     "metadata": {},
     "outputs": [],
     "prompt_number": 3
    },
    {
     "cell_type": "code",
     "collapsed": false,
     "input": [
      "import pandas as pd\n",
      "import numpy as np\n",
      "import operator as op"
     ],
     "language": "python",
     "metadata": {},
     "outputs": [],
     "prompt_number": 4
    },
    {
     "cell_type": "code",
     "collapsed": false,
     "input": [
      "# practice sequences\n",
      "seq1 = \"TGCAA\"\n",
      "seq2 = \"TCAT\"\n",
      "match = 1\n",
      "mismatch = -1\n",
      "gap_open = -1\n",
      "gap_extend = 0"
     ],
     "language": "python",
     "metadata": {},
     "outputs": [],
     "prompt_number": 5
    },
    {
     "cell_type": "heading",
     "level": 1,
     "metadata": {},
     "source": [
      "Scoring Functions"
     ]
    },
    {
     "cell_type": "code",
     "collapsed": false,
     "input": [
      "def score_deletion(seq_array, deletion_array, base1_index, base2_index,\\\n",
      "                   gap_open, gap_extend):\n",
      "    \"\"\"Scoring the deletion array.\"\"\"\n",
      "    \n",
      "    # Calculating the max\n",
      "    extended_gap_score = deletion_array[base1_index - 1, base2_index] + gap_extend\n",
      "    single_gap_score = seq_array[base1_index - 1, base2_index] + gap_open + gap_extend\n",
      "    values = (extended_gap_score, single_gap_score)\n",
      "    max_index, max_value = max(enumerate(values), key=op.itemgetter(1))\n",
      "\n",
      "    return max_value\n",
      "    "
     ],
     "language": "python",
     "metadata": {},
     "outputs": [],
     "prompt_number": 6
    },
    {
     "cell_type": "markdown",
     "metadata": {},
     "source": [
      "\"\"\"Testing score_deletion.\"\"\"\n",
      "seq_array = np.array([[1, 7], [3, 4]])\n",
      "deletion_array = np.array([[1, 7], [3, 7]])\n",
      "base1_index = 1\n",
      "base2_index = 1\n",
      "gap_open = -2\n",
      "gap_extend = -1\n",
      "\n",
      "score_deletion(seq_array, deletion_array, base1_index, base2_index,\\\n",
      "                   gap_open, gap_extend)"
     ]
    },
    {
     "cell_type": "code",
     "collapsed": false,
     "input": [
      "def score_insertion(seq_array, insertion_array, base1_index, base2_index,\\\n",
      "                   gap_open, gap_extend):\n",
      "    \"\"\"Scoring the insertion array.\"\"\"\n",
      "    \n",
      "    # Calculating the max\n",
      "    extended_gap_score = insertion_array[base1_index, base2_index - 1] + gap_extend\n",
      "    single_gap_score = seq_array[base1_index, base2_index - 1] + gap_open + gap_extend\n",
      "    values = (extended_gap_score, single_gap_score)\n",
      "    max_index, max_value = max(enumerate(values), key=op.itemgetter(1))\n",
      "\n",
      "    return max_value\n",
      "    "
     ],
     "language": "python",
     "metadata": {},
     "outputs": [],
     "prompt_number": 7
    },
    {
     "cell_type": "markdown",
     "metadata": {},
     "source": [
      "\"\"\"Testing score_insertion.\"\"\"\n",
      "seq_array = np.array([[1, 2], [5, 4]])\n",
      "insertion_array = np.array([[1, 2], [4, 4]])\n",
      "base1_index = 1\n",
      "base2_index = 1\n",
      "gap_open = -2\n",
      "gap_extend = -1\n",
      "\n",
      "score_insertion(seq_array, insertion_array, base1_index, base2_index,\\\n",
      "                   gap_open, gap_extend)"
     ]
    },
    {
     "cell_type": "code",
     "collapsed": false,
     "input": [
      "def score_pairing(seq_array, base1, base2, base1_index, base2_index,\\\n",
      "          match, mismatch):\n",
      "    \"\"\"Scoring bp1 to bp2 sequence strings.\"\"\"\n",
      "    pairing = 0\n",
      "    \n",
      "    if base1 == base2:\n",
      "        pairing = match\n",
      "    else:\n",
      "        pairing = mismatch\n",
      "        \n",
      "    pairing += seq_array[base1_index - 1, base2_index -1] \n",
      "    \n",
      "    return pairing\n",
      "    \n",
      "        "
     ],
     "language": "python",
     "metadata": {},
     "outputs": [],
     "prompt_number": 8
    },
    {
     "cell_type": "code",
     "collapsed": false,
     "input": [
      "def score_with_affine(seq_array, deletion_array, insertion_array, base1, base2,\\\n",
      "                      base1_index, base2_index, gap_open, gap_extend):\n",
      "    \"\"\"Penaling with affine gap penalty.\"\"\"\n",
      "    \n",
      "    potential_score = list()\n",
      "    bp_pair_up = 0\n",
      "    \n",
      "    if base1 == base2:\n",
      "        bp_pair_up = match\n",
      "    else:\n",
      "        bp_pair_up = mismatch\n",
      "        \n",
      "    bp_pair_up += seq_array[base1_index - 1, base2_index -1] \n",
      "    bp_deletion = score_deletion(seq_array, deletion_array, base1_index, base2_index,\\\n",
      "                   gap_open, gap_extend)\n",
      "    bp_insertion = score_insertion(seq_array, insertion_array, base1_index, base2_index,\\\n",
      "                   gap_open, gap_extend)\n",
      "\n",
      "    values = (bp_pair_up, bp_deletion, bp_insertion, 0)    \n",
      "    max_index, max_value = max(enumerate(values), key=op.itemgetter(1))\n",
      "    \n",
      "    return max_value"
     ],
     "language": "python",
     "metadata": {},
     "outputs": [],
     "prompt_number": 9
    },
    {
     "cell_type": "markdown",
     "metadata": {},
     "source": [
      "\"\"\"Testing score_with_affine.\"\"\"\n",
      "seq_array = np.array([[1, 0], [0, 0]])\n",
      "deletion_array = np.array([[0, 100], [3, 4]])\n",
      "insertion_array = np.array([[1, 2], [1000, 4]])\n",
      "base1 = \"a\"\n",
      "base2 = \"a\"\n",
      "base1_index = 1\n",
      "base2_index = 1\n",
      "gap_open = -2\n",
      "gap_extend = -1\n",
      "\n",
      "score_with_affine(seq_array, deletion_array, insertion_array, base1, base2, base1_index, base2_index,\\\n",
      "                   gap_open, gap_extend)\n"
     ]
    },
    {
     "cell_type": "code",
     "collapsed": false,
     "input": [
      "def score(seq_array, base1, base2, base1_index, base2_index,\\\n",
      "          match, mismatch, gap_open):\n",
      "    \"\"\"Scoring individual sequence strings.\"\"\"\n",
      "    # index 0 contains matching, index 1 contains [base1, _],\n",
      "    # index 2 contains [_, base2], index[3] contains 0 (always)\n",
      "    potential_scores = [] \n",
      "    case1 = 0\n",
      "    \n",
      "    if base1 == base2:\n",
      "        case1 = match\n",
      "    else:\n",
      "        case1 = mismatch\n",
      "        \n",
      "    case1 += seq_array[base1_index - 1, base2_index -1]   \n",
      "        \n",
      "    case2 = seq_array[base1_index, base2_index -1] + mismatch\n",
      "    \n",
      "    ###print \"\\tcase2:\", case2\n",
      "\n",
      "    case3 = seq_array[base1_index - 1, base2_index] + mismatch\n",
      "    \n",
      "    ###print \"\\tcase3:\", case3\n",
      "\n",
      "    case4 = 0\n",
      "    potential_scores.extend([case1, case2, case3, case4])\n",
      "    # finding the best score and the array indexes used to\n",
      "    # get there. \n",
      "    \n",
      "    ###print \"\\tpotential_scores:\", potential_scores\n",
      "    \n",
      "    best_score = max(potential_scores)\n",
      "    best_score_index = potential_scores.index(best_score)\n",
      "    \n",
      "    if best_score_index == 0:\n",
      "        ###x, y = base1_index - 1, base2_index -1\n",
      "        return best_score, base1, base2\n",
      "    elif best_score_index == 1:\n",
      "        ###x, y = base1_index, base2_index -1\n",
      "        return best_score, base1, \"_\"\n",
      "    elif best_score_index == 2:\n",
      "        ###x, y = base1_index - 1, base2_index\n",
      "        return best_score, \"_\", base2\n",
      "    else:\n",
      "        x, y = base1_index, base2_index ###Not too sure about this one\n",
      "        return best_score, \" \", \" \""
     ],
     "language": "python",
     "metadata": {},
     "outputs": [],
     "prompt_number": 10
    },
    {
     "cell_type": "heading",
     "level": 1,
     "metadata": {},
     "source": [
      "Scoring Matrix"
     ]
    },
    {
     "cell_type": "markdown",
     "metadata": {},
     "source": [
      "def make_scoring_array(seq1, seq2, match, mismatch, gap_open):\n",
      "\n",
      "    # Setting up the array and the sequences as lists\n",
      "    seq_array = np.zeros((len(seq1) + 1, len(seq2) + 1))\n",
      "    seq1 = list(seq1)\n",
      "    seq2 = list(seq2)\n",
      "    seq1_alignment = list()\n",
      "    seq2_alignment = list()\n",
      "    \n",
      "    # Scoring the matrix\n",
      "    for base1_index, base1 in zip(range(1, len(seq1) + 1), seq1):\n",
      "\n",
      "        ###print \"row_index, base1:\", base1_index, base1\n",
      "\n",
      "        for base2_index, base2 in zip(range(1, len(seq2) + 1), seq2):\n",
      "\n",
      "            best_score, base1_coor, base2_coor =\\\n",
      "                score(seq_array, base1, base2, base1_index, base2_index,\\\n",
      "                match, mismatch, gap_open)\n",
      "            seq_array[base1_index, base2_index] = best_score\n",
      "            ###print \n",
      "            ###print \"\\tcol_index, base2:\", base2_index, base2\n",
      "            ###print \"\\tbest_score:\", best_score\n",
      "            ###print \"\\n\"\n",
      "    return seq_array.T, seq1_alignment, seq2_alignment\n",
      "        \n",
      "        \n",
      "        \n"
     ]
    },
    {
     "cell_type": "markdown",
     "metadata": {},
     "source": [
      "seq_array, one, two =\\\n",
      "make_scoring_array(seq1, seq2, match, mismatch, gap_open)\n",
      "\n",
      "print seq_array\n",
      "print one\n",
      "print two"
     ]
    },
    {
     "cell_type": "code",
     "collapsed": false,
     "input": [
      "def make_scoring_matrix_linear(seq1, seq2, match, mismatch, gap_open):\n",
      "\n",
      "    # Setting up the matrix and the sequences as lists\n",
      "    seq_matrix = np.zeros((2, (len(seq1))))\n",
      "    zero_row_matrix = np.zeros(len(seq1))\n",
      "    seq1 = list(seq1)\n",
      "    seq2 = list(seq2)\n",
      "    seq1_alignment = list()\n",
      "    seq2_alignment = list()\n",
      "    scoring_list = list()\n",
      "    \n",
      "    # Scoring the matrix\n",
      "    for base1_index, base1 in zip(range(1, len(seq1) + 1), seq1):      \n",
      "        for base2_index, base2 in zip(range(1, len(seq2) + 1), seq2):\n",
      "            best_score, base1_coor, base2_coor =\\\n",
      "                score(seq_matrix, base1, base2, 1, base2_index,\\\n",
      "                match, mismatch, gap_open)\n",
      "            seq_matrix[1, base2_index] = best_score\n",
      "\n",
      "        print \"seq_matrix[1]:\", seq_matrix[1]\n",
      "        \n",
      "        scoring_list.append(seq_matrix[1])\n",
      "        seq_matrix[0] = seq_matrix[1]\n",
      "        #seq_matrix[1] = zero_row_matrix\n",
      "        \n",
      "    return seq_matrix"
     ],
     "language": "python",
     "metadata": {},
     "outputs": [],
     "prompt_number": 11
    },
    {
     "cell_type": "code",
     "collapsed": false,
     "input": [
      "make_scoring_matrix_linear(seq1, seq2, match, mismatch, gap_open)"
     ],
     "language": "python",
     "metadata": {},
     "outputs": [
      {
       "output_type": "stream",
       "stream": "stdout",
       "text": [
        "seq_matrix[1]: [ 0.  1.  0.  0.  1.]\n",
        "seq_matrix[1]: [ 0.  0.  0.  0.  0.]\n",
        "seq_matrix[1]: [ 0.  0.  1.  0.  0.]\n",
        "seq_matrix[1]: [ 0.  0.  0.  2.  1.]\n",
        "seq_matrix[1]: [ 0.  0.  0.  1.  1.]\n"
       ]
      },
      {
       "metadata": {},
       "output_type": "pyout",
       "prompt_number": 12,
       "text": [
        "array([[ 0.,  0.,  0.,  1.,  1.],\n",
        "       [ 0.,  0.,  0.,  1.,  1.]])"
       ]
      }
     ],
     "prompt_number": 12
    },
    {
     "cell_type": "code",
     "collapsed": false,
     "input": [
      "def make_scoring_matrix_affine(seq1, seq2, match, mismatch, gap_open, gap_extend):\n",
      "    seq_matrix = np.zeros((2, len(seq1)))\n",
      "    print \"matrix shapes:\", seq_matrix.shape\n",
      "    deletion_matrix  = np.copy(seq_matrix)\n",
      "    insertion_matrix  = np.copy(seq_matrix)\n",
      "    seq1 = list(seq1)\n",
      "    seq2 = list(seq2)\n",
      "    \n",
      "    print \"\\t\", seq_matrix[0]\n",
      "    for bp1, bp1_index in zip(seq1, range(1, len(seq1) + 1)):\n",
      "        \n",
      "        ###print \"base pair 1:\", bp1\n",
      "        \n",
      "        for bp2, bp2_index in zip(seq2, range(1, len(seq2) + 1)):\n",
      "            \n",
      "            ###print \"\\tbase pair 2:\", bp2\n",
      "            \n",
      "            del_score = score_deletion(seq_matrix, deletion_matrix, 1, bp2_index,\\\n",
      "                   gap_open, gap_extend)\n",
      "            deletion_matrix[1, bp2_index] = del_score   \n",
      "            \n",
      "            in_score = score_insertion(seq_matrix, insertion_matrix, 1, bp2_index,\\\n",
      "                   gap_open, gap_extend)\n",
      "            insertion_matrix[1, bp2_index] = in_score\n",
      "            \n",
      "            pairing_score = score_pairing(seq_matrix, bp1, bp2, 1, bp2_index,\\\n",
      "                   match, mismatch)\n",
      "            \n",
      "            max_score = max([del_score, in_score, pairing_score, 0])\n",
      "            seq_matrix[1, bp2_index] = max_score    \n",
      "            \n",
      "            \n",
      "        deletion_matrix[0] = deletion_matrix[1]\n",
      "        insertion_matrix[0] = insertion_matrix[1]\n",
      "        seq_matrix[0] = seq_matrix[1]\n",
      "        print \"\\t\", seq_matrix[0]\n",
      "\n",
      "    \n",
      "    #print \"seq_matrix:\", seq_matrix\n",
      "\n",
      "            \n",
      "    "
     ],
     "language": "python",
     "metadata": {},
     "outputs": [],
     "prompt_number": 29
    },
    {
     "cell_type": "code",
     "collapsed": false,
     "input": [
      "make_scoring_matrix_affine(seq1, seq2, match, mismatch, gap_open, gap_extend)"
     ],
     "language": "python",
     "metadata": {},
     "outputs": [
      {
       "output_type": "stream",
       "stream": "stdout",
       "text": [
        "matrix shapes: (2, 5)\n",
        "\t[ 0.  0.  0.  0.  0.]\n",
        "\t[ 0.  1.  0.  0.  1.]\n",
        "\t[ 0.  0.  0.  0.  0.]\n",
        "\t[ 0.  0.  1.  0.  0.]\n",
        "\t[ 0.  0.  0.  2.  1.]\n",
        "\t[ 0.  0.  0.  1.  1.]\n"
       ]
      }
     ],
     "prompt_number": 30
    },
    {
     "cell_type": "code",
     "collapsed": false,
     "input": [],
     "language": "python",
     "metadata": {},
     "outputs": [],
     "prompt_number": 14
    }
   ],
   "metadata": {}
  }
 ]
}